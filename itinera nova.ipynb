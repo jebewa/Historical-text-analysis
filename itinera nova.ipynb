{
 "cells": [
  {
   "cell_type": "code",
   "execution_count": 1,
   "metadata": {
    "collapsed": false
   },
   "outputs": [],
   "source": [
    "from bs4 import BeautifulSoup\n",
    "import urllib, urllib2\n",
    "import requests\n",
    "import re\n",
    "import pandas as pd\n",
    "from tqdm import tqdm_notebook\n",
    "itinera = pd.DataFrame(columns = [['texts', 'date']])\n",
    "collection = []\n",
    "year = []"
   ]
  },
  {
   "cell_type": "code",
   "execution_count": 3,
   "metadata": {
    "collapsed": false
   },
   "outputs": [],
   "source": [
    "def read_iter(url):\n",
    "    content = urllib2.urlopen(url).read()\n",
    "    soup = BeautifulSoup(content, \"html.parser\")\n",
    "    for transcr in soup.find_all('div',attrs={\"id\" : \"context-label\"}):\n",
    "        nummer = \"\".join(transcr.text)\n",
    "        nummer = nummer[:-1]\n",
    "        nummer = int(nummer.split()[-1])\n",
    "    for i in tqdm_notebook(range(nummer), desc = \"one file\"):\n",
    "        all_div = soup.find_all('div')\n",
    "        d = 0\n",
    "        for element in all_div:\n",
    "            if \"Datum\" in element:\n",
    "                d = 1\n",
    "                date = \"\".join(element.text)\n",
    "                date = date.split()\n",
    "                if isinstance(date[1], unicode):         #check whether there is actually a date in the file\n",
    "                    year.append(date[1])\n",
    "                else:\n",
    "                    year.append(\"No date\")                                  # else append 'no date' --> no empty cells\n",
    "        if d != 1:                                       # check whether there is a div with 'datum' as text because if not, it will skip it\n",
    "                year.append(\"No date\")                   # and no 'No date' will be added --> inequal amount of indexes in dataframe = error\n",
    "        for transcr in soup.find_all('div',attrs={\"class\" : \"transcription\"}):\n",
    "            final = (transcr.text).encode('utf-8')\n",
    "            collection.append(final)\n",
    "\n",
    "        for link in soup.findAll('a', text = \"Volgende\"):\n",
    "            new_link = link.get('href')\n",
    "            url = \"http://www.itineranova.be\" + new_link\n",
    "            new_url = urllib.quote(url.encode('utf8'), ':/')\n",
    "        content = urllib2.urlopen(new_url).read()\n",
    "        soup = BeautifulSoup(content, \"html.parser\")\n"
   ]
  },
  {
   "cell_type": "code",
   "execution_count": 4,
   "metadata": {
    "collapsed": false
   },
   "outputs": [
    {
     "name": "stdout",
     "output_type": "stream",
     "text": [
      "\n"
     ]
    }
   ],
   "source": [
    "no_trans = []                                                     # ook: uitsluiting van eerste twee documenten --> eerste leeg en tweede foute url voor tekst 9 --> zorgde voor problemen met data\n",
    "for n in tqdm_notebook(range(7326-7303), desc = \"all files\"):     # voorlopig enkel tot en met 1430 door processing time\n",
    "                                                                  # voor alle documenten van eerste kamer: gebruik 7704 ipv 7326 --> SAL nummer van itinera + 1\n",
    "    doc = 7303 + n\n",
    "    #     if content = urllib2.urlopen(\"http://www.itineranova.be/in/SAL\"+str(doc)+\"/*/transcription\").read() != \n",
    "    try:\n",
    "        read_iter(\"http://www.itineranova.be/in/SAL\"+str(doc)+\"/*/transcription\")\n",
    "    except urllib2.HTTPError as err:\n",
    "        no_trans.append(err.code)\n",
    "        if err.code == 400:\n",
    "            continue\n",
    "    if len(collection) != len(year):\n",
    "        while len(collection) - len(year) > 0:\n",
    "            year.append(\"No date motherf***\")          # er is ergens in fout in de datum, rond het 9e document vanaf 7303\n",
    "                                                   # niet door geen div met datum, noch door twee divs met datum --> daarom appenden van geen datum om index juist te krijgen\n",
    "                                                   # maar zeker nog eens nakijken wat er precies mis is!!!"
   ]
  },
  {
   "cell_type": "code",
   "execution_count": 45,
   "metadata": {
    "collapsed": false
   },
   "outputs": [
    {
     "name": "stdout",
     "output_type": "stream",
     "text": [
      "(1722, 2)\n"
     ]
    },
    {
     "data": {
      "text/html": [
       "<div>\n",
       "<table border=\"1\" class=\"dataframe\">\n",
       "  <thead>\n",
       "    <tr style=\"text-align: right;\">\n",
       "      <th></th>\n",
       "      <th>texts</th>\n",
       "      <th>date</th>\n",
       "    </tr>\n",
       "  </thead>\n",
       "  <tbody>\n",
       "    <tr>\n",
       "      <th>0</th>\n",
       "      <td>It(em) de meye(r) va(n) loven(en) metde(n) sce...</td>\n",
       "      <td>1400-08-15</td>\n",
       "    </tr>\n",
       "    <tr>\n",
       "      <th>1</th>\n",
       "      <td>It(em) wout(er) eveloghe es come(n) voe(r) [me...</td>\n",
       "      <td>1400-08-15</td>\n",
       "    </tr>\n",
       "    <tr>\n",
       "      <th>2</th>\n",
       "      <td>It(em) henr(ic) m(er)te en(de) joffr(ouwe) mag...</td>\n",
       "      <td>1400-08-15</td>\n",
       "    </tr>\n",
       "    <tr>\n",
       "      <th>3</th>\n",
       "      <td>It(em) joh(annes) van boshoele heeft machtich ...</td>\n",
       "      <td>1400-09-24</td>\n",
       "    </tr>\n",
       "    <tr>\n",
       "      <th>4</th>\n",
       "      <td>It(em) vanden gedinghe dat gheweest heeft tuss...</td>\n",
       "      <td>1400-09-30</td>\n",
       "    </tr>\n",
       "  </tbody>\n",
       "</table>\n",
       "</div>"
      ],
      "text/plain": [
       "                                               texts        date\n",
       "0  It(em) de meye(r) va(n) loven(en) metde(n) sce...  1400-08-15\n",
       "1  It(em) wout(er) eveloghe es come(n) voe(r) [me...  1400-08-15\n",
       "2  It(em) henr(ic) m(er)te en(de) joffr(ouwe) mag...  1400-08-15\n",
       "3  It(em) joh(annes) van boshoele heeft machtich ...  1400-09-24\n",
       "4  It(em) vanden gedinghe dat gheweest heeft tuss...  1400-09-30"
      ]
     },
     "execution_count": 45,
     "metadata": {},
     "output_type": "execute_result"
    }
   ],
   "source": [
    "itinera = pd.DataFrame(columns = [['texts', 'date']])\n",
    "itinera['texts'] = collection\n",
    "itinera['date'] = year\n",
    "print itinera.shape\n",
    "itinera.head()\n",
    "\n",
    "\n",
    "#error met dataframe --> uitzoeken hoe je nieuwe waarden achter de oude plakt in dataframe"
   ]
  },
  {
   "cell_type": "markdown",
   "metadata": {},
   "source": [
    "### Text processing"
   ]
  },
  {
   "cell_type": "markdown",
   "metadata": {},
   "source": [
    "Get the \"/\" and \"(\" and \")\" out. I realise it is not very good in terms of transcription, but it will mess up any text analysis and more important it makes it hard to store it into a csv-file or text-file since it recognises it as separations. Possibly also for \"[]\"."
   ]
  },
  {
   "cell_type": "code",
   "execution_count": 46,
   "metadata": {
    "collapsed": false
   },
   "outputs": [
    {
     "name": "stdout",
     "output_type": "stream",
     "text": [
      "\n"
     ]
    }
   ],
   "source": [
    "ind = 0\n",
    "for t in tqdm_notebook(itinera['texts']):\n",
    "    new = t.replace(\"(\", \"\")\n",
    "    new = new.replace(\")\", \"\")\n",
    "    new = new.replace(\"/\", \"\")\n",
    "    itinera.loc[ind][0] = new\n",
    "    ind += 1"
   ]
  },
  {
   "cell_type": "code",
   "execution_count": 56,
   "metadata": {
    "collapsed": false
   },
   "outputs": [
    {
     "data": {
      "text/html": [
       "<div>\n",
       "<table border=\"1\" class=\"dataframe\">\n",
       "  <thead>\n",
       "    <tr style=\"text-align: right;\">\n",
       "      <th></th>\n",
       "      <th>texts</th>\n",
       "      <th>date</th>\n",
       "    </tr>\n",
       "  </thead>\n",
       "  <tbody>\n",
       "    <tr>\n",
       "      <th>0</th>\n",
       "      <td>Item de meyer van lovenen metden scepenen van ...</td>\n",
       "      <td>1400-08-15</td>\n",
       "    </tr>\n",
       "    <tr>\n",
       "      <th>1</th>\n",
       "      <td>Item wouter eveloghe es comen voer [meyer ende...</td>\n",
       "      <td>1400-08-15</td>\n",
       "    </tr>\n",
       "    <tr>\n",
       "      <th>2</th>\n",
       "      <td>Item henric merte ende joffrouwe magriete sijn...</td>\n",
       "      <td>1400-08-15</td>\n",
       "    </tr>\n",
       "    <tr>\n",
       "      <th>3</th>\n",
       "      <td>Item johannes van boshoele heeft machtich gema...</td>\n",
       "      <td>1400-09-24</td>\n",
       "    </tr>\n",
       "    <tr>\n",
       "      <th>4</th>\n",
       "      <td>Item vanden gedinghe dat gheweest heeft tussch...</td>\n",
       "      <td>1400-09-30</td>\n",
       "    </tr>\n",
       "  </tbody>\n",
       "</table>\n",
       "</div>"
      ],
      "text/plain": [
       "                                               texts        date\n",
       "0  Item de meyer van lovenen metden scepenen van ...  1400-08-15\n",
       "1  Item wouter eveloghe es comen voer [meyer ende...  1400-08-15\n",
       "2  Item henric merte ende joffrouwe magriete sijn...  1400-08-15\n",
       "3  Item johannes van boshoele heeft machtich gema...  1400-09-24\n",
       "4  Item vanden gedinghe dat gheweest heeft tussch...  1400-09-30"
      ]
     },
     "execution_count": 56,
     "metadata": {},
     "output_type": "execute_result"
    }
   ],
   "source": [
    "itinera.head()"
   ]
  },
  {
   "cell_type": "code",
   "execution_count": 51,
   "metadata": {
    "collapsed": false
   },
   "outputs": [
    {
     "name": "stdout",
     "output_type": "stream",
     "text": [
      "321\n"
     ]
    }
   ],
   "source": [
    "no_date = []\n",
    "for nd in itinera['date']:\n",
    "    if 'date' in nd:\n",
    "        no_date.append(nd)\n",
    "print len(no_date)"
   ]
  },
  {
   "cell_type": "markdown",
   "metadata": {
    "collapsed": true
   },
   "source": [
    "### save data in csv"
   ]
  },
  {
   "cell_type": "code",
   "execution_count": 68,
   "metadata": {
    "collapsed": true
   },
   "outputs": [],
   "source": [
    "itinera.to_csv('itinera_first.csv', sep='\\t', encoding='utf-8', index=False)"
   ]
  },
  {
   "cell_type": "code",
   "execution_count": 2,
   "metadata": {
    "collapsed": false
   },
   "outputs": [
    {
     "data": {
      "text/html": [
       "<div>\n",
       "<table border=\"1\" class=\"dataframe\">\n",
       "  <thead>\n",
       "    <tr style=\"text-align: right;\">\n",
       "      <th></th>\n",
       "      <th>texts</th>\n",
       "      <th>date</th>\n",
       "    </tr>\n",
       "  </thead>\n",
       "  <tbody>\n",
       "    <tr>\n",
       "      <th>0</th>\n",
       "      <td>Item de meyer van lovenen metden scepenen van ...</td>\n",
       "      <td>1400-08-15</td>\n",
       "    </tr>\n",
       "    <tr>\n",
       "      <th>1</th>\n",
       "      <td>Item wouter eveloghe es comen voer [meyer ende...</td>\n",
       "      <td>1400-08-15</td>\n",
       "    </tr>\n",
       "    <tr>\n",
       "      <th>2</th>\n",
       "      <td>Item henric merte ende joffrouwe magriete sijn...</td>\n",
       "      <td>1400-08-15</td>\n",
       "    </tr>\n",
       "    <tr>\n",
       "      <th>3</th>\n",
       "      <td>Item johannes van boshoele heeft machtich gema...</td>\n",
       "      <td>1400-09-24</td>\n",
       "    </tr>\n",
       "    <tr>\n",
       "      <th>4</th>\n",
       "      <td>Item vanden gedinghe dat gheweest heeft tussch...</td>\n",
       "      <td>1400-09-30</td>\n",
       "    </tr>\n",
       "  </tbody>\n",
       "</table>\n",
       "</div>"
      ],
      "text/plain": [
       "                                               texts        date\n",
       "0  Item de meyer van lovenen metden scepenen van ...  1400-08-15\n",
       "1  Item wouter eveloghe es comen voer [meyer ende...  1400-08-15\n",
       "2  Item henric merte ende joffrouwe magriete sijn...  1400-08-15\n",
       "3  Item johannes van boshoele heeft machtich gema...  1400-09-24\n",
       "4  Item vanden gedinghe dat gheweest heeft tussch...  1400-09-30"
      ]
     },
     "execution_count": 2,
     "metadata": {},
     "output_type": "execute_result"
    }
   ],
   "source": [
    "new_itinera = pd.DataFrame()\n",
    "new_itinera = pd.read_csv('itinera_first.csv', sep='\\t')\n",
    "new_itinera.head()"
   ]
  },
  {
   "cell_type": "markdown",
   "metadata": {},
   "source": [
    "Splitting the dataframe in test and train. Train being the ones with a clear year, test the ones without.\n",
    "Also some more date processing: put the ones with \"-\" or \"?\" in year in the dataframe with no dates."
   ]
  },
  {
   "cell_type": "code",
   "execution_count": 9,
   "metadata": {
    "collapsed": false
   },
   "outputs": [],
   "source": [
    "train = pd.DataFrame(columns = [['texts', 'date']])\n",
    "test = pd.DataFrame(columns = [['texts', 'date']])\n",
    "test_date = []\n",
    "train_date = []\n",
    "test_text = []\n",
    "train_text = []\n",
    "ind = 0\n",
    "for nd in new_itinera['date']:\n",
    "#     if nd[2] == \"-\":\n",
    "#         print nd\n",
    "    if 'date' in nd or nd[2] == \"-\" or nd[2] == \"?\":\n",
    "        test_date.append(new_itinera['date'][ind])\n",
    "        test_text.append(new_itinera['texts'][ind])\n",
    "    else:\n",
    "        train_date.append(new_itinera['date'][ind])\n",
    "        train_text.append(new_itinera['texts'][ind])\n",
    "    ind += 1"
   ]
  },
  {
   "cell_type": "code",
   "execution_count": 10,
   "metadata": {
    "collapsed": false
   },
   "outputs": [],
   "source": [
    "train['texts'] = train_text\n",
    "train['date'] = train_date\n",
    "test['texts'] = test_text\n",
    "test['date'] = test_date"
   ]
  },
  {
   "cell_type": "code",
   "execution_count": 14,
   "metadata": {
    "collapsed": false
   },
   "outputs": [
    {
     "name": "stdout",
     "output_type": "stream",
     "text": [
      "                                               texts        date\n",
      "0                            Item de selve jan fyen      No date\n",
      "1  Cont ende kenlec sij allen lieden dat van alsu...     No date\n",
      "2  Item wouter mons ende gheert hermans scepenen ...  14??-03-28\n",
      "3  Item lambrecht stael et henric bierboc in deen...     No date\n",
      "4  jan weeghbroet heeft dese brieve [ontfaen] te ...        14--\n",
      "(323, 2)\n",
      "                                               texts        date  realDate\n",
      "0  Item de meyer van lovenen metden scepenen van ...  1400-08-15      1400\n",
      "1  Item wouter eveloghe es comen voer [meyer ende...  1400-08-15      1400\n",
      "2  Item henric merte ende joffrouwe magriete sijn...  1400-08-15      1400\n",
      "3  Item johannes van boshoele heeft machtich gema...  1400-09-24      1400\n",
      "4  Item vanden gedinghe dat gheweest heeft tussch...  1400-09-30      1400\n",
      "(1399, 3)\n"
     ]
    }
   ],
   "source": [
    "print test.head()\n",
    "print test.shape\n",
    "print train.head()\n",
    "print train.shape"
   ]
  },
  {
   "cell_type": "markdown",
   "metadata": {},
   "source": [
    "Convert the train dates to integers --> only the years!! They will serve as the target class."
   ]
  },
  {
   "cell_type": "code",
   "execution_count": 12,
   "metadata": {
    "collapsed": false
   },
   "outputs": [],
   "source": [
    "real = []\n",
    "for jd in train['date']:\n",
    "    real.append(int(jd[:4]))\n",
    "train['realDate'] = real"
   ]
  },
  {
   "cell_type": "markdown",
   "metadata": {},
   "source": [
    "### feature selection"
   ]
  },
  {
   "cell_type": "code",
   "execution_count": 15,
   "metadata": {
    "collapsed": false
   },
   "outputs": [
    {
     "data": {
      "text/html": [
       "<div>\n",
       "<table border=\"1\" class=\"dataframe\">\n",
       "  <thead>\n",
       "    <tr style=\"text-align: right;\">\n",
       "      <th></th>\n",
       "      <th>tfidf</th>\n",
       "    </tr>\n",
       "  </thead>\n",
       "  <tbody>\n",
       "    <tr>\n",
       "      <th>0</th>\n",
       "      <td>[0.0, 0.0, 0.0, 0.0, 0.0, 0.0, 0.0, 0.0, 0.0, ...</td>\n",
       "    </tr>\n",
       "    <tr>\n",
       "      <th>1</th>\n",
       "      <td>[0.0, 0.0, 0.0, 0.0, 0.0, 0.0, 0.0, 0.0, 0.0, ...</td>\n",
       "    </tr>\n",
       "    <tr>\n",
       "      <th>2</th>\n",
       "      <td>[0.0, 0.0, 0.0, 0.0, 0.0, 0.0, 0.0, 0.0, 0.0, ...</td>\n",
       "    </tr>\n",
       "    <tr>\n",
       "      <th>3</th>\n",
       "      <td>[0.0, 0.0, 0.0, 0.0, 0.0, 0.0, 0.0, 0.0, 0.0, ...</td>\n",
       "    </tr>\n",
       "    <tr>\n",
       "      <th>4</th>\n",
       "      <td>[0.0, 0.0, 0.0, 0.0, 0.0, 0.0, 0.0, 0.0, 0.0, ...</td>\n",
       "    </tr>\n",
       "  </tbody>\n",
       "</table>\n",
       "</div>"
      ],
      "text/plain": [
       "                                               tfidf\n",
       "0  [0.0, 0.0, 0.0, 0.0, 0.0, 0.0, 0.0, 0.0, 0.0, ...\n",
       "1  [0.0, 0.0, 0.0, 0.0, 0.0, 0.0, 0.0, 0.0, 0.0, ...\n",
       "2  [0.0, 0.0, 0.0, 0.0, 0.0, 0.0, 0.0, 0.0, 0.0, ...\n",
       "3  [0.0, 0.0, 0.0, 0.0, 0.0, 0.0, 0.0, 0.0, 0.0, ...\n",
       "4  [0.0, 0.0, 0.0, 0.0, 0.0, 0.0, 0.0, 0.0, 0.0, ..."
      ]
     },
     "execution_count": 15,
     "metadata": {},
     "output_type": "execute_result"
    }
   ],
   "source": [
    "features = pd.DataFrame()\n",
    "from sklearn.feature_extraction.text import CountVectorizer\n",
    "count_vect = CountVectorizer()\n",
    "X_train_counts = count_vect.fit_transform(train['texts'])\n",
    "X_train_counts.shape\n",
    "from sklearn.feature_extraction.text import TfidfTransformer\n",
    "transformer = TfidfTransformer(norm=u'l2', use_idf=True, smooth_idf=True, sublinear_tf=False).fit(X_train_counts)\n",
    "X_train_tfidf = transformer.transform(X_train_counts)\n",
    "features['tfidf'] = list(X_train_tfidf.toarray())\n",
    "features.head()"
   ]
  },
  {
   "cell_type": "code",
   "execution_count": 22,
   "metadata": {
    "collapsed": false
   },
   "outputs": [
    {
     "name": "stdout",
     "output_type": "stream",
     "text": [
      "\n"
     ]
    }
   ],
   "source": [
    "import numpy as np\n",
    "from sklearn.cross_validation import train_test_split\n",
    "from sklearn.metrics import confusion_matrix\n",
    "import matplotlib.pyplot as plt\n",
    "from time import time\n",
    "from sklearn.grid_search import GridSearchCV\n",
    "from operator import itemgetter\n",
    "import scipy as sp\n",
    "from scipy.stats import t\n",
    "from scipy import stats\n",
    "from sklearn.cross_validation import cross_val_score"
   ]
  },
  {
   "cell_type": "code",
   "execution_count": 16,
   "metadata": {
    "collapsed": true
   },
   "outputs": [],
   "source": [
    "def mean_confidence_interval(data, confidence=0.95):\n",
    "    a = 1.0*np.array(data)\n",
    "    n = len(a)\n",
    "    m, se = np.mean(a), stats.sem(a)\n",
    "    h = se * sp.stats.t._ppf((1+confidence)/2., n-1)\n",
    "    return \"95% confidence interval: \"  + str((m-h, m+h))"
   ]
  },
  {
   "cell_type": "code",
   "execution_count": 24,
   "metadata": {
    "collapsed": false
   },
   "outputs": [
    {
     "name": "stdout",
     "output_type": "stream",
     "text": [
      " Dummy accuracy: \n",
      "\n",
      "predicting time:  0.413 s\n",
      "\n",
      "0.031847133758\n",
      "0.0526315789474\n",
      "0.0342465753425\n",
      "0.0413793103448\n",
      "0.0652173913043\n",
      "0.0735294117647\n",
      "0.0441176470588\n",
      "0.0225563909774\n",
      "0.0769230769231\n",
      "0.031746031746\n",
      "\n",
      "0.0474194548167\n",
      "\n",
      "95% confidence interval: (0.033881407110998123, 0.060957502522412478)\n",
      "\n"
     ]
    }
   ],
   "source": [
    "from sklearn.dummy import DummyClassifier\n",
    "def dumClass(feature_set):\n",
    "    classifier = DummyClassifier()\n",
    "#     x_train, x_test  = train_test_split(feature_set, test_size = 0.33, random_state=42)\n",
    "#     y_train, y_test = train_test_split(train['realDate'], test_size = 0.33, random_state=42)\n",
    "#     t0 = time()\n",
    "#     classifier.fit(x_train, y_train)\n",
    "#     print 'training time: ', round(time()-t0, 3), 's'\n",
    "#     print\n",
    "    t1 = time()\n",
    "    accuracies = cross_val_score(classifier, feature_set, train['realDate'], cv=10) #volledige data gebruiken want split automatisch!!!!!\n",
    "    print 'predicting time: ', round(time()-t1, 3), 's'\n",
    "    print\n",
    "    for acc in accuracies:\n",
    "        print acc\n",
    "    print\n",
    "    print np.mean(accuracies)\n",
    "    print\n",
    "    print mean_confidence_interval(accuracies)\n",
    "    print\n",
    "    \n",
    "\n",
    "#     y_pred = classifier.fit(x_train, y_train).predict(x_test)\n",
    "    \n",
    "#     conf = pd.crosstab(y_test, y_pred, rownames=['True'], colnames=['Predicted'], margins=True)\n",
    "#     print conf\n",
    "#     im = plt.imshow(conf.iloc[0:3, 0:3], cmap='binary', interpolation='None')\n",
    "#     plt.xticks([0, 1, 2], ['course', 'faculty', 'student'])\n",
    "#     plt.yticks([0, 1, 2], ['course', 'faculty', 'student'])\n",
    "#     plt.show(im)\n",
    "#     return accuracies, conf, im\n",
    "print \"Dummy accuracy: \"\n",
    "print\n",
    "dumClass(features['tfidf'].tolist())"
   ]
  },
  {
   "cell_type": "code",
   "execution_count": 61,
   "metadata": {
    "collapsed": false
   },
   "outputs": [
    {
     "data": {
      "text/plain": [
       "<matplotlib.colorbar.Colorbar at 0x2c017e48>"
      ]
     },
     "execution_count": 61,
     "metadata": {},
     "output_type": "execute_result"
    }
   ],
   "source": [
    "from sklearn.decomposition import PCA\n",
    "import matplotlib.pyplot as plt\n",
    "\n",
    "     \n",
    "X = X_train_tfidf.todense()\n",
    "\n",
    "pca = PCA(n_components=2).fit(X)\n",
    "data2D = pca.transform(X)\n",
    "plt.scatter(data2D[:,0], data2D[:,1], c=train['realDate'])\n",
    "plt.colorbar()\n"
   ]
  },
  {
   "cell_type": "code",
   "execution_count": 62,
   "metadata": {
    "collapsed": false
   },
   "outputs": [
    {
     "data": {
      "image/png": "[encoded data removed]",
      "text/plain": [
       "<matplotlib.figure.Figure at 0x2bbecac8>"
      ]
     },
     "metadata": {},
     "output_type": "display_data"
    }
   ],
   "source": [
    "plt.show()"
   ]
  },
  {
   "cell_type": "code",
   "execution_count": 53,
   "metadata": {
    "collapsed": false
   },
   "outputs": [
    {
     "ename": "AttributeError",
     "evalue": "get_feature_names not found",
     "output_type": "error",
     "traceback": [
      "\u001b[0;31m---------------------------------------------------------------------------\u001b[0m",
      "\u001b[0;31mAttributeError\u001b[0m                            Traceback (most recent call last)",
      "\u001b[0;32m<ipython-input-53-197e7ff9ac18>\u001b[0m in \u001b[0;36m<module>\u001b[0;34m()\u001b[0m\n\u001b[0;32m----> 1\u001b[0;31m \u001b[0mfeature_array\u001b[0m \u001b[1;33m=\u001b[0m \u001b[0mnp\u001b[0m\u001b[1;33m.\u001b[0m\u001b[0marray\u001b[0m\u001b[1;33m(\u001b[0m\u001b[0mX_train_tfidf\u001b[0m\u001b[1;33m.\u001b[0m\u001b[0mget_feature_names\u001b[0m\u001b[1;33m(\u001b[0m\u001b[1;33m)\u001b[0m\u001b[1;33m)\u001b[0m\u001b[1;33m\u001b[0m\u001b[0m\n\u001b[0m\u001b[1;32m      2\u001b[0m \u001b[0mtfidf_sorting\u001b[0m \u001b[1;33m=\u001b[0m \u001b[0mnp\u001b[0m\u001b[1;33m.\u001b[0m\u001b[0margsort\u001b[0m\u001b[1;33m(\u001b[0m\u001b[0mresponse\u001b[0m\u001b[1;33m.\u001b[0m\u001b[0mtoarray\u001b[0m\u001b[1;33m(\u001b[0m\u001b[1;33m)\u001b[0m\u001b[1;33m)\u001b[0m\u001b[1;33m.\u001b[0m\u001b[0mflatten\u001b[0m\u001b[1;33m(\u001b[0m\u001b[1;33m)\u001b[0m\u001b[1;33m[\u001b[0m\u001b[1;33m:\u001b[0m\u001b[1;33m:\u001b[0m\u001b[1;33m-\u001b[0m\u001b[1;36m1\u001b[0m\u001b[1;33m]\u001b[0m\u001b[1;33m\u001b[0m\u001b[0m\n\u001b[1;32m      3\u001b[0m \u001b[1;33m\u001b[0m\u001b[0m\n\u001b[1;32m      4\u001b[0m \u001b[0mn\u001b[0m \u001b[1;33m=\u001b[0m \u001b[1;36m3\u001b[0m\u001b[1;33m\u001b[0m\u001b[0m\n\u001b[1;32m      5\u001b[0m \u001b[0mtop_n\u001b[0m \u001b[1;33m=\u001b[0m \u001b[0mfeature_array\u001b[0m\u001b[1;33m[\u001b[0m\u001b[0mtfidf_sorting\u001b[0m\u001b[1;33m]\u001b[0m\u001b[1;33m[\u001b[0m\u001b[1;33m:\u001b[0m\u001b[0mn\u001b[0m\u001b[1;33m]\u001b[0m\u001b[1;33m\u001b[0m\u001b[0m\n",
      "\u001b[0;32mC:\\Users\\Tim\\Anaconda2\\lib\\site-packages\\scipy\\sparse\\base.pyc\u001b[0m in \u001b[0;36m__getattr__\u001b[0;34m(self, attr)\u001b[0m\n\u001b[1;32m    557\u001b[0m             \u001b[1;32mreturn\u001b[0m \u001b[0mself\u001b[0m\u001b[1;33m.\u001b[0m\u001b[0mgetnnz\u001b[0m\u001b[1;33m(\u001b[0m\u001b[1;33m)\u001b[0m\u001b[1;33m\u001b[0m\u001b[0m\n\u001b[1;32m    558\u001b[0m         \u001b[1;32melse\u001b[0m\u001b[1;33m:\u001b[0m\u001b[1;33m\u001b[0m\u001b[0m\n\u001b[0;32m--> 559\u001b[0;31m             \u001b[1;32mraise\u001b[0m \u001b[0mAttributeError\u001b[0m\u001b[1;33m(\u001b[0m\u001b[0mattr\u001b[0m \u001b[1;33m+\u001b[0m \u001b[1;34m\" not found\"\u001b[0m\u001b[1;33m)\u001b[0m\u001b[1;33m\u001b[0m\u001b[0m\n\u001b[0m\u001b[1;32m    560\u001b[0m \u001b[1;33m\u001b[0m\u001b[0m\n\u001b[1;32m    561\u001b[0m     \u001b[1;32mdef\u001b[0m \u001b[0mtranspose\u001b[0m\u001b[1;33m(\u001b[0m\u001b[0mself\u001b[0m\u001b[1;33m,\u001b[0m \u001b[0maxes\u001b[0m\u001b[1;33m=\u001b[0m\u001b[0mNone\u001b[0m\u001b[1;33m,\u001b[0m \u001b[0mcopy\u001b[0m\u001b[1;33m=\u001b[0m\u001b[0mFalse\u001b[0m\u001b[1;33m)\u001b[0m\u001b[1;33m:\u001b[0m\u001b[1;33m\u001b[0m\u001b[0m\n",
      "\u001b[0;31mAttributeError\u001b[0m: get_feature_names not found"
     ]
    }
   ],
   "source": [
    "feature_array = np.array(X_train_tfidf.get_feature_names())\n",
    "tfidf_sorting = np.argsort(response.toarray()).flatten()[::-1]\n",
    "\n",
    "n = 3\n",
    "top_n = feature_array[tfidf_sorting][:n]"
   ]
  },
  {
   "cell_type": "code",
   "execution_count": 40,
   "metadata": {
    "collapsed": false
   },
   "outputs": [
    {
     "name": "stdout",
     "output_type": "stream",
     "text": [
      "Knn: \n",
      "\n",
      "predicting time:  1275.755 s\n",
      "\n",
      "0.0764331210191\n",
      "0.0789473684211\n",
      "0.0821917808219\n",
      "0.0827586206897\n",
      "0.0869565217391\n",
      "0.0882352941176\n",
      "0.0882352941176\n",
      "0.0902255639098\n",
      "0.0923076923077\n",
      "0.0952380952381\n",
      "\n",
      "0.0861529352382\n",
      "\n",
      "95% confidence interval: (0.081887818982561783, 0.09041805149378232)\n",
      "\n"
     ]
    }
   ],
   "source": [
    "from sklearn.svm import SVC\n",
    "\n",
    "def logReg(feature_set):\n",
    "    classifier = SVC()\n",
    "    t1 = time()\n",
    "    accuracies = cross_val_score(classifier, feature_set, train['realDate'], cv=10)\n",
    "    print 'predicting time: ', round(time()-t1, 3), 's'\n",
    "    print\n",
    "    for acc in accuracies:\n",
    "        print acc\n",
    "    print\n",
    "    print np.mean(accuracies)\n",
    "    print\n",
    "    print mean_confidence_interval(accuracies)\n",
    "    print\n",
    "print \"Knn: \"\n",
    "print\n",
    "logReg(features['tfidf'].tolist())"
   ]
  }
 ],
 "metadata": {
  "anaconda-cloud": {},
  "kernelspec": {
   "display_name": "Python [conda root]",
   "language": "python",
   "name": "conda-root-py"
  },
  "language_info": {
   "codemirror_mode": {
    "name": "ipython",
    "version": 2
   },
   "file_extension": ".py",
   "mimetype": "text/x-python",
   "name": "python",
   "nbconvert_exporter": "python",
   "pygments_lexer": "ipython2",
   "version": "2.7.12"
  }
 },
 "nbformat": 4,
 "nbformat_minor": 1
}
